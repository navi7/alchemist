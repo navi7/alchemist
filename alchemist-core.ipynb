{
 "cells": [
  {
   "cell_type": "markdown",
   "metadata": {},
   "source": [
    "# Introduction"
   ]
  },
  {
   "cell_type": "markdown",
   "metadata": {},
   "source": [
    "Read: http://aosabook.org/en/sqlalchemy.html\n",
    "\n",
    "What you would basically do to get some data from Pythons DB-API:\n",
    "\n",
    "    connection = dbapi.connect(user=\"user\", pw=\"pw\", host=\"host\")\n",
    "    cursor = connection.cursor()\n",
    "\n",
    "    cursor.execute(\"select * from user_table where name=?\", (\"jack\",))\n",
    "\n",
    "    print \"Columns in result:\", [desc[0] for desc in cursor.description]\n",
    "\n",
    "    for row in cursor.fetchall():\n",
    "        print \"Row:\", row\n",
    "\n",
    "    cursor.close()\n",
    "    connection.close()"
   ]
  },
  {
   "cell_type": "markdown",
   "metadata": {},
   "source": [
    "# How SQLAlchemy does it?"
   ]
  },
  {
   "cell_type": "code",
   "execution_count": null,
   "metadata": {
    "collapsed": false
   },
   "outputs": [],
   "source": [
    "from sqlalchemy import create_engine\n",
    "\n",
    "# Syntax: dialect[+dialect]://username:password@host/dbname\n",
    "engine = create_engine(\"postgresql://alchemist@alchemist_db/alchemist\")\n",
    "\n",
    "result = engine.execute(\"SELECT version();\")\n",
    "\n",
    "print(result.fetchall())"
   ]
  },
  {
   "cell_type": "markdown",
   "metadata": {},
   "source": [
    "*Note*: everything is handled behind the scenes!"
   ]
  },
  {
   "cell_type": "markdown",
   "metadata": {},
   "source": [
    "### The Engine, Connection and ResultProxy"
   ]
  },
  {
   "cell_type": "code",
   "execution_count": null,
   "metadata": {
    "collapsed": false
   },
   "outputs": [],
   "source": [
    "# we can explicitly maintain a connection:\n",
    "connection = engine.connect()  # Engine references a Dialect\n",
    "print(type(engine))\n",
    "print(type(connection))"
   ]
  },
  {
   "cell_type": "code",
   "execution_count": null,
   "metadata": {
    "collapsed": false
   },
   "outputs": [],
   "source": [
    "result = connection.execute(\"SELECT current_date;\")\n",
    "print(type(result))\n",
    "print(result.fetchone())"
   ]
  },
  {
   "cell_type": "code",
   "execution_count": null,
   "metadata": {
    "collapsed": true
   },
   "outputs": [],
   "source": [
    "connection.close()  # but then we also must close it..."
   ]
  },
  {
   "cell_type": "markdown",
   "metadata": {},
   "source": [
    "*Note*: slides"
   ]
  },
  {
   "cell_type": "markdown",
   "metadata": {},
   "source": [
    "### Table and Column concepts"
   ]
  },
  {
   "cell_type": "code",
   "execution_count": null,
   "metadata": {
    "collapsed": true
   },
   "outputs": [],
   "source": [
    "from sqlalchemy import (\n",
    "    create_engine,\n",
    "    MetaData,\n",
    "    Table, Column, \n",
    "    Integer, String\n",
    ")\n",
    "\n",
    "metadata = MetaData()\n",
    "\n",
    "# define a Table with some Columns\n",
    "users = Table('users', metadata,\n",
    "    Column('id', Integer, primary_key=True),\n",
    "    Column('name', String)\n",
    ")"
   ]
  },
  {
   "cell_type": "code",
   "execution_count": null,
   "metadata": {
    "collapsed": false
   },
   "outputs": [],
   "source": [
    "engine.echo = True  # I wan't to see the SQL statements\n",
    "metadata.create_all(engine)"
   ]
  },
  {
   "cell_type": "markdown",
   "metadata": {},
   "source": [
    "## SQL expressions\n",
    "SQLAlchemy renders the expressions as strings..."
   ]
  },
  {
   "cell_type": "code",
   "execution_count": null,
   "metadata": {
    "collapsed": false
   },
   "outputs": [],
   "source": [
    "ins = users.insert()\n",
    "print(str(ins))"
   ]
  },
  {
   "cell_type": "markdown",
   "metadata": {},
   "source": [
    "So, insert() renders the SQL INSERT with named bind parameters. When we provide values, only they get rendered:"
   ]
  },
  {
   "cell_type": "code",
   "execution_count": null,
   "metadata": {
    "collapsed": false
   },
   "outputs": [],
   "source": [
    "ins = users.insert().values(name='Seven of Nine')\n",
    "print(str(ins))"
   ]
  },
  {
   "cell_type": "markdown",
   "metadata": {},
   "source": [
    "But where is `Seven of Nine`?"
   ]
  },
  {
   "cell_type": "code",
   "execution_count": null,
   "metadata": {
    "collapsed": false
   },
   "outputs": [],
   "source": [
    "print(str(ins.compile().params))"
   ]
  },
  {
   "cell_type": "markdown",
   "metadata": {},
   "source": [
    "Let's add that to the DB:"
   ]
  },
  {
   "cell_type": "code",
   "execution_count": null,
   "metadata": {
    "collapsed": false
   },
   "outputs": [],
   "source": [
    "connection = engine.connect()\n",
    "result = connection.execute(ins)\n",
    "print(type(result))\n",
    "print(result.inserted_primary_key)"
   ]
  },
  {
   "cell_type": "markdown",
   "metadata": {},
   "source": [
    "INSERT can also be done like this:"
   ]
  },
  {
   "cell_type": "code",
   "execution_count": null,
   "metadata": {
    "collapsed": false
   },
   "outputs": [],
   "source": [
    "ins = users.insert()\n",
    "connection.execute(ins, id=17, name='Ellen Ripley')"
   ]
  },
  {
   "cell_type": "markdown",
   "metadata": {},
   "source": [
    "Or, we can insert many at once:"
   ]
  },
  {
   "cell_type": "code",
   "execution_count": null,
   "metadata": {
    "collapsed": false
   },
   "outputs": [],
   "source": [
    "connection.execute(ins, [\n",
    "    {'id': 18, 'name': 'Cameron Phillips'},\n",
    "    {'id': 19, 'name': 'Sarah Connor'},\n",
    "])"
   ]
  },
  {
   "cell_type": "markdown",
   "metadata": {},
   "source": [
    "### SELECT"
   ]
  },
  {
   "cell_type": "code",
   "execution_count": null,
   "metadata": {
    "collapsed": false
   },
   "outputs": [],
   "source": [
    "from sqlalchemy import select\n",
    "sel = select([users])\n",
    "result = connection.execute(sel)"
   ]
  },
  {
   "cell_type": "markdown",
   "metadata": {},
   "source": [
    "We have the resultset (ResultProxy object), let's see what is in it"
   ]
  },
  {
   "cell_type": "code",
   "execution_count": null,
   "metadata": {
    "collapsed": false
   },
   "outputs": [],
   "source": [
    "for usr in result:\n",
    "    print(usr)"
   ]
  },
  {
   "cell_type": "markdown",
   "metadata": {},
   "source": [
    "We can access the fields in many ways:"
   ]
  },
  {
   "cell_type": "code",
   "execution_count": null,
   "metadata": {
    "collapsed": false
   },
   "outputs": [],
   "source": [
    "result = connection.execute(sel)\n",
    "usr = result.fetchone()\n",
    "print('Name: {}'.format(usr['name']))\n",
    "print('Name: {}'.format(usr[1]))\n",
    "print('Name: {}'.format(usr[users.c.name]))"
   ]
  },
  {
   "cell_type": "markdown",
   "metadata": {},
   "source": [
    "result.close() should be called now, as there are more results in there..."
   ]
  },
  {
   "cell_type": "code",
   "execution_count": null,
   "metadata": {
    "collapsed": true
   },
   "outputs": [],
   "source": [
    "result.close()"
   ]
  },
  {
   "cell_type": "markdown",
   "metadata": {},
   "source": [
    "Pick the fields to select"
   ]
  },
  {
   "cell_type": "code",
   "execution_count": null,
   "metadata": {
    "collapsed": false
   },
   "outputs": [],
   "source": [
    "sel = select([users.c.name])\n",
    "result = connection.execute(sel)\n",
    "for usr in result:\n",
    "    print(usr)"
   ]
  },
  {
   "cell_type": "markdown",
   "metadata": {},
   "source": [
    "### select() is really smart"
   ]
  },
  {
   "cell_type": "code",
   "execution_count": null,
   "metadata": {
    "collapsed": false
   },
   "outputs": [],
   "source": [
    "# repeating for reference:\n",
    "#\n",
    "# users = Table('users', metadata,\n",
    "#    Column('id', Integer, primary_key=True),\n",
    "#    Column('name', String)\n",
    "# ) \n",
    "\n",
    "from sqlalchemy import ForeignKey\n",
    "\n",
    "addresses = Table('addresses', metadata,\n",
    "    Column('id', Integer, primary_key=True),\n",
    "    Column('user_id', None, ForeignKey('users.id')),\n",
    "    Column('email_address', String, nullable=False)\n",
    ")\n",
    "\n",
    "metadata.create_all(engine)"
   ]
  },
  {
   "cell_type": "code",
   "execution_count": null,
   "metadata": {
    "collapsed": false
   },
   "outputs": [],
   "source": [
    "connection.execute(users.delete()) # starting with fresh data"
   ]
  },
  {
   "cell_type": "code",
   "execution_count": null,
   "metadata": {
    "collapsed": false
   },
   "outputs": [],
   "source": [
    "connection.execute(users.insert(), [\n",
    "    {'id': 1, 'name': 'Seven of Nine'},\n",
    "    {'id': 2, 'name': 'Cameron Phillips'},\n",
    "    {'id': 3, 'name': 'Sarah Connor'},\n",
    "])\n",
    "\n",
    "connection.execute(addresses.insert(), [\n",
    "    {'user_id': 1, 'email_address': 'seven_of_nine@voyager.dq'},\n",
    "    {'user_id': 1, 'email_address': 'seven_of_nine@unimatrix.01'},\n",
    "    {'user_id': 2, 'email_address': 'cameron@sky.net'},\n",
    "    {'user_id': 3, 'email_address': 'sarah@sky.net'},\n",
    "])"
   ]
  },
  {
   "cell_type": "code",
   "execution_count": null,
   "metadata": {
    "collapsed": false
   },
   "outputs": [],
   "source": [
    "for row in connection.execute(select([users, addresses])):\n",
    "    print(row)"
   ]
  },
  {
   "cell_type": "markdown",
   "metadata": {},
   "source": [
    "Whoa, a Cartesian product :), we need a WHERE in there"
   ]
  },
  {
   "cell_type": "code",
   "execution_count": null,
   "metadata": {
    "collapsed": false
   },
   "outputs": [],
   "source": [
    "sel = select([users, addresses]).where(users.c.id == addresses.c.user_id)\n",
    "for row in connection.execute(sel):\n",
    "    print(row)"
   ]
  },
  {
   "cell_type": "markdown",
   "metadata": {},
   "source": [
    "Did you get the `where()` thingie?!  What does `==` do?\n",
    "\n",
    "Check more examples: http://docs.sqlalchemy.org/en/rel_1_0/core/tutorial.html#operators"
   ]
  },
  {
   "cell_type": "code",
   "execution_count": null,
   "metadata": {
    "collapsed": false
   },
   "outputs": [],
   "source": [
    "print(users.c.id == addresses.c.user_id)"
   ]
  },
  {
   "cell_type": "markdown",
   "metadata": {},
   "source": [
    "`label()`"
   ]
  },
  {
   "cell_type": "code",
   "execution_count": null,
   "metadata": {
    "collapsed": false
   },
   "outputs": [],
   "source": [
    "sel = select([(users.c.name + ' with email ' + addresses.c.email_address).label('Full'), addresses.c.email_address]).where(users.c.id == addresses.c.user_id)\n",
    "for row in connection.execute(sel):\n",
    "    print(row)"
   ]
  },
  {
   "cell_type": "markdown",
   "metadata": {},
   "source": [
    "There are `and_(), or_(), not_(), like()` and so on..."
   ]
  },
  {
   "cell_type": "markdown",
   "metadata": {},
   "source": [
    "### `text()`"
   ]
  },
  {
   "cell_type": "code",
   "execution_count": null,
   "metadata": {
    "collapsed": false
   },
   "outputs": [],
   "source": [
    "from sqlalchemy.sql import text\n",
    "sel = text(\"SELECT users.name || ' with email ' || addresses.email_address as Full \" \n",
    "           \"FROM users, addresses WHERE users.id = addresses.user_id \"\n",
    "           \"AND addresses.email_address LIKE :email1\")\n",
    "for row in connection.execute(sel, email1='%.net').fetchall():\n",
    "    print(row)"
   ]
  },
  {
   "cell_type": "markdown",
   "metadata": {},
   "source": [
    "### join()"
   ]
  },
  {
   "cell_type": "code",
   "execution_count": null,
   "metadata": {
    "collapsed": false
   },
   "outputs": [],
   "source": [
    "print(users.join(addresses))"
   ]
  },
  {
   "cell_type": "code",
   "execution_count": null,
   "metadata": {
    "collapsed": false
   },
   "outputs": [],
   "source": [
    "print(':)')"
   ]
  },
  {
   "cell_type": "code",
   "execution_count": null,
   "metadata": {
    "collapsed": false
   },
   "outputs": [],
   "source": [
    "print(select([users.c.name]).select_from(users.join(addresses)))"
   ]
  },
  {
   "cell_type": "code",
   "execution_count": null,
   "metadata": {
    "collapsed": false
   },
   "outputs": [],
   "source": [
    "sel = select([users.c.name]).select_from(users.join(addresses)).limit(2).offset(2)\n",
    "result = connection.execute(sel)\n",
    "for row in result:\n",
    "    print(row)"
   ]
  },
  {
   "cell_type": "markdown",
   "metadata": {},
   "source": [
    "`order_by()`, `asc()`, `desc()`, ..."
   ]
  },
  {
   "cell_type": "code",
   "execution_count": null,
   "metadata": {
    "collapsed": true
   },
   "outputs": [],
   "source": []
  }
 ],
 "metadata": {
  "kernelspec": {
   "display_name": "Python 3",
   "language": "python",
   "name": "python3"
  },
  "language_info": {
   "codemirror_mode": {
    "name": "ipython",
    "version": 3
   },
   "file_extension": ".py",
   "mimetype": "text/x-python",
   "name": "python",
   "nbconvert_exporter": "python",
   "pygments_lexer": "ipython3",
   "version": "3.4.3"
  }
 },
 "nbformat": 4,
 "nbformat_minor": 0
}
