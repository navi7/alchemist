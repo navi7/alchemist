{
 "cells": [
  {
   "cell_type": "markdown",
   "metadata": {},
   "source": [
    "# And now... PostgreSQL!"
   ]
  },
  {
   "cell_type": "code",
   "execution_count": null,
   "metadata": {
    "collapsed": false
   },
   "outputs": [],
   "source": [
    "from uuid import uuid4\n",
    "from enum import Enum\n",
    "\n",
    "from sqlalchemy import create_engine\n",
    "from sqlalchemy import Column, Integer, String, ForeignKey\n",
    "from sqlalchemy.ext.declarative import declarative_base\n",
    "from sqlalchemy.orm import sessionmaker, relationship\n",
    "\n",
    "from sqlalchemy.dialects import postgresql\n",
    "\n",
    "engine = create_engine(\"postgresql://alchemist@alchemist_db/alchemist\", echo=True)\n",
    "Session = sessionmaker(bind=engine)\n",
    "session = Session()\n",
    "\n",
    "Base = declarative_base()\n",
    "\n",
    "\n",
    "class MemberType(Enum):\n",
    "    FREE = 'free'\n",
    "    PAYING = 'paying'\n",
    "    \n",
    "    @classmethod\n",
    "    def as_list(cls):\n",
    "        return [e.value for e in cls]\n",
    "\n",
    "class User(Base):\n",
    "    __tablename__ = 'users'\n",
    "    \n",
    "    id = Column(postgresql.UUID(as_uuid=True), primary_key=True, default=uuid4)\n",
    "    name = Column(String)\n",
    "    fullname = Column(String)\n",
    "    \n",
    "    shipping_address = Column(postgresql.JSONB)\n",
    "    \n",
    "    membership = Column(postgresql.ENUM(*MemberType.as_list(), name='membership'), \n",
    "                        default=MemberType.FREE.value)\n",
    "    \n",
    "    def __repr__(self):\n",
    "        return '<User(name={}, fullname={}, shipping_address={}, membership={})>'.format(\n",
    "            self.name, self.fullname, self.shipping_address, self.membership)"
   ]
  },
  {
   "cell_type": "code",
   "execution_count": null,
   "metadata": {
    "collapsed": false
   },
   "outputs": [],
   "source": [
    "Base.metadata.create_all(engine)"
   ]
  },
  {
   "cell_type": "code",
   "execution_count": null,
   "metadata": {
    "collapsed": false
   },
   "outputs": [],
   "source": [
    "seven = User(name='seven', fullname='Seven of Nine')\n",
    "seven.shipping_address = {'zip': '10000', 'street1': 'Preradovićeva 18'}"
   ]
  },
  {
   "cell_type": "code",
   "execution_count": null,
   "metadata": {
    "collapsed": false
   },
   "outputs": [],
   "source": [
    "session.add(seven)\n",
    "session.commit()"
   ]
  },
  {
   "cell_type": "code",
   "execution_count": null,
   "metadata": {
    "collapsed": false
   },
   "outputs": [],
   "source": [
    "from_db = session.query(User).filter_by(name='seven').one()\n",
    "print(from_db)"
   ]
  },
  {
   "cell_type": "code",
   "execution_count": null,
   "metadata": {
    "collapsed": false
   },
   "outputs": [],
   "source": [
    "from_db.shipping_address['zip']\n",
    "# SELECT shipping_address->zip' AS zip FROM users"
   ]
  },
  {
   "cell_type": "code",
   "execution_count": null,
   "metadata": {
    "collapsed": false
   },
   "outputs": [],
   "source": [
    "seven is from_db"
   ]
  },
  {
   "cell_type": "code",
   "execution_count": null,
   "metadata": {
    "collapsed": true
   },
   "outputs": [],
   "source": [
    "seven.membership = 'bb'"
   ]
  },
  {
   "cell_type": "code",
   "execution_count": null,
   "metadata": {
    "collapsed": false
   },
   "outputs": [],
   "source": [
    "session.dirty"
   ]
  },
  {
   "cell_type": "code",
   "execution_count": null,
   "metadata": {
    "collapsed": false
   },
   "outputs": [],
   "source": [
    "try:\n",
    "    session.commit()\n",
    "except Exception as e:\n",
    "    session.rollback()"
   ]
  },
  {
   "cell_type": "code",
   "execution_count": null,
   "metadata": {
    "collapsed": false
   },
   "outputs": [],
   "source": [
    "seven"
   ]
  },
  {
   "cell_type": "code",
   "execution_count": null,
   "metadata": {
    "collapsed": true
   },
   "outputs": [],
   "source": []
  }
 ],
 "metadata": {
  "kernelspec": {
   "display_name": "Python 3",
   "language": "python",
   "name": "python3"
  },
  "language_info": {
   "codemirror_mode": {
    "name": "ipython",
    "version": 3
   },
   "file_extension": ".py",
   "mimetype": "text/x-python",
   "name": "python",
   "nbconvert_exporter": "python",
   "pygments_lexer": "ipython3",
   "version": "3.4.3"
  }
 },
 "nbformat": 4,
 "nbformat_minor": 0
}
